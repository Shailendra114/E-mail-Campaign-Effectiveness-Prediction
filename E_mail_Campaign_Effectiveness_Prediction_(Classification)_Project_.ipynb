{
  "nbformat": 4,
  "nbformat_minor": 0,
  "metadata": {
    "colab": {
      "name": " E-mail Campaign Effectiveness Prediction (Classification) Project .ipynb",
      "provenance": [],
      "authorship_tag": "ABX9TyOiYXM8mHUU4eMb8y8EwKwH",
      "include_colab_link": true
    },
    "kernelspec": {
      "name": "python3",
      "display_name": "Python 3"
    },
    "language_info": {
      "name": "python"
    }
  },
  "cells": [
    {
      "cell_type": "markdown",
      "metadata": {
        "id": "view-in-github",
        "colab_type": "text"
      },
      "source": [
        "<a href=\"https://colab.research.google.com/github/Shailendra114/E-mail-Campaign-Effectiveness-Prediction/blob/main/E_mail_Campaign_Effectiveness_Prediction_(Classification)_Project_.ipynb\" target=\"_parent\"><img src=\"https://colab.research.google.com/assets/colab-badge.svg\" alt=\"Open In Colab\"/></a>"
      ]
    },
    {
      "cell_type": "markdown",
      "source": [
        "# Problem Statement "
      ],
      "metadata": {
        "id": "xOd8g2pXIEcN"
      }
    },
    {
      "cell_type": "markdown",
      "source": [
        "**Most of the small to medium business owners are making effective use of Gmail-based Email marketing Strategies for offline targeting of converting their prospective customers into leads so that they stay with them in Business. The main objective is to create a machine learning model to characterize the mail and track the mail that is ignored; read; acknowledged by the reader.**"
      ],
      "metadata": {
        "id": "-7A2FZU2Ilae"
      }
    },
    {
      "cell_type": "markdown",
      "source": [
        "# Introduction"
      ],
      "metadata": {
        "id": "oK1SxLJ6I6Q1"
      }
    },
    {
      "cell_type": "code",
      "execution_count": null,
      "metadata": {
        "id": "ZURXSZqTHwgh"
      },
      "outputs": [],
      "source": [
        ""
      ]
    }
  ]
}