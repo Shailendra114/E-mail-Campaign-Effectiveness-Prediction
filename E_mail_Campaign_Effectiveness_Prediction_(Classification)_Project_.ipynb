{
  "nbformat": 4,
  "nbformat_minor": 0,
  "metadata": {
    "colab": {
      "name": " E-mail Campaign Effectiveness Prediction (Classification) Project .ipynb",
      "provenance": [],
      "collapsed_sections": [],
      "mount_file_id": "1pwFejeHLAOCjeuM_tbAog2JnoMlPVrAo",
      "authorship_tag": "ABX9TyOBL2yFMzI+cgVhGzI57deV",
      "include_colab_link": true
    },
    "kernelspec": {
      "name": "python3",
      "display_name": "Python 3"
    },
    "language_info": {
      "name": "python"
    }
  },
  "cells": [
    {
      "cell_type": "markdown",
      "metadata": {
        "id": "view-in-github",
        "colab_type": "text"
      },
      "source": [
        "<a href=\"https://colab.research.google.com/github/Shailendra114/E-mail-Campaign-Effectiveness-Prediction/blob/main/E_mail_Campaign_Effectiveness_Prediction_(Classification)_Project_.ipynb\" target=\"_parent\"><img src=\"https://colab.research.google.com/assets/colab-badge.svg\" alt=\"Open In Colab\"/></a>"
      ]
    },
    {
      "cell_type": "markdown",
      "source": [
        "# Problem Statement "
      ],
      "metadata": {
        "id": "xOd8g2pXIEcN"
      }
    },
    {
      "cell_type": "markdown",
      "source": [
        "**Most of the small to medium business owners are making effective use of Gmail-based Email marketing Strategies for offline targeting of converting their prospective customers into leads so that they stay with them in Business. The main objective is to create a machine learning model to characterize the mail and track the mail that is ignored; read; acknowledged by the reader.**"
      ],
      "metadata": {
        "id": "-7A2FZU2Ilae"
      }
    },
    {
      "cell_type": "markdown",
      "source": [
        "# Introduction"
      ],
      "metadata": {
        "id": "oK1SxLJ6I6Q1"
      }
    },
    {
      "cell_type": "markdown",
      "source": [
        "Sending email is one of the alternatives used by Companies to tell and promote certain event sale to users. With the ability to be able to predict whether user is reading or not reading the email, enable Companies to evaluate their crew works during campaign period until event launch. This is because, when user is open the email, the possibility of that user know there is an event or promo will be highly increased and also increasing the possibility of that user do transaction during event period. Therefore, with the making of this model, hopefully Companies be able to build a strategy for future marketing."
      ],
      "metadata": {
        "id": "Fe3tgWu_LliN"
      }
    },
    {
      "cell_type": "markdown",
      "source": [
        "# Goal"
      ],
      "metadata": {
        "id": "8v0GzqyBOQ8L"
      }
    },
    {
      "cell_type": "markdown",
      "source": [
        "**The goal of this project is to build a model that is able to predict whether user is going to read the email sent by Company or not. In this case, Company's priority is user.**"
      ],
      "metadata": {
        "id": "PXpZh6osOTo4"
      }
    },
    {
      "cell_type": "markdown",
      "source": [
        "# Attribute Information"
      ],
      "metadata": {
        "id": "MkEwVCbJVHKb"
      }
    },
    {
      "cell_type": "markdown",
      "source": [
        "* Email_ID - This column contains the email ids of individuals.\n",
        "\n",
        "* Email_type - Email type contains 2 categories 1 and 2. We can assume that the types are like promotional email or sales email.\n",
        "\n",
        "* Subject_Hotness_Score - It is the subject-line effectiveness score.\n",
        "\n",
        "* Email_Source - It represents the source of the email like sales,marketing or product type email.\n",
        "\n",
        "* Email_Campaign_Type - Campaign type\n",
        "\n",
        "* Total_Past_Communications - This column contains the previous mails from the source.\n",
        "\n",
        "* Customer_Location - Categorical data which explains the different demographic location of the customers.\n",
        "\n",
        "* Time_Email_sent_Category - It has 3 categories: 1,2 and 3 which are considered as morning,evening and night time slot.\n",
        "\n",
        "* Word_Count - It contains the no.of words in the mail.\n",
        "\n",
        "* Total_Links - Total links in the email body.\n",
        "\n",
        "* Total_Images - The banner images in the email body.\n",
        "\n",
        "* Email_Status - It is the target variable which contains the characterization of the mail that is ignored; read; acknowledged by the reader."
      ],
      "metadata": {
        "id": "RoqRARZqVjEe"
      }
    },
    {
      "cell_type": "markdown",
      "source": [
        "# Roadmap"
      ],
      "metadata": {
        "id": "Tq0c7mNSWBRk"
      }
    },
    {
      "cell_type": "markdown",
      "source": [
        "The Roadmap that we will be following in the project is -----\n",
        "* Understanding the terms in the problem\n",
        "* Loading the data into the dataframe\n",
        "* Cleaning the data\n",
        "* Extracting the statistics from the data\n",
        "* EDA(Exploratory data analysis)\n",
        "* Feature Selection\n",
        "* Pre-processing data\n",
        "* Model-Fit\n",
        "* Conclusion"
      ],
      "metadata": {
        "id": "2Myuz1llWHeR"
      }
    },
    {
      "cell_type": "markdown",
      "source": [
        "**Lets mount our drive and upload our dataset to start our project:**"
      ],
      "metadata": {
        "id": "afUE1ajwWf7_"
      }
    },
    {
      "cell_type": "markdown",
      "source": [
        "Our drive is already mounted so lets import impotant libraries and upload our data"
      ],
      "metadata": {
        "id": "MwqQVJqzaDCP"
      }
    },
    {
      "cell_type": "code",
      "source": [
        "# lets import important libraries for data reading\n",
        "import pandas as pd\n",
        "import numpy as np\n"
      ],
      "metadata": {
        "id": "SQyx7k9MZqTx"
      },
      "execution_count": 5,
      "outputs": []
    },
    {
      "cell_type": "code",
      "execution_count": 6,
      "metadata": {
        "id": "ZURXSZqTHwgh"
      },
      "outputs": [],
      "source": [
        "# Lets upload our dataset\n",
        "Email=pd.read_csv('/content/drive/MyDrive/ Almabetter/ E-mail Campaign Effectiveness Prediction (Classifiation )/data_email_campaign.csv')"
      ]
    },
    {
      "cell_type": "code",
      "source": [
        "# lets check data type of file\n",
        "type(Email)"
      ],
      "metadata": {
        "colab": {
          "base_uri": "https://localhost:8080/"
        },
        "id": "yG70lBPZaBjk",
        "outputId": "4d17a62a-aa33-4079-c993-36153d84c566"
      },
      "execution_count": 8,
      "outputs": [
        {
          "output_type": "execute_result",
          "data": {
            "text/plain": [
              "pandas.core.frame.DataFrame"
            ]
          },
          "metadata": {},
          "execution_count": 8
        }
      ]
    },
    {
      "cell_type": "code",
      "source": [
        ""
      ],
      "metadata": {
        "id": "gmffdGOmalbS"
      },
      "execution_count": null,
      "outputs": []
    }
  ]
}