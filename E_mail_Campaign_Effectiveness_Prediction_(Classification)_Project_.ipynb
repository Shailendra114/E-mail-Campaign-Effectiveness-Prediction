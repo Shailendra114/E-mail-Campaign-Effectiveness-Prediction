{
  "nbformat": 4,
  "nbformat_minor": 0,
  "metadata": {
    "colab": {
      "name": " E-mail Campaign Effectiveness Prediction (Classification) Project .ipynb",
      "provenance": [],
      "authorship_tag": "ABX9TyO/AHOgZTI3orbdlG/D586q",
      "include_colab_link": true
    },
    "kernelspec": {
      "name": "python3",
      "display_name": "Python 3"
    },
    "language_info": {
      "name": "python"
    }
  },
  "cells": [
    {
      "cell_type": "markdown",
      "metadata": {
        "id": "view-in-github",
        "colab_type": "text"
      },
      "source": [
        "<a href=\"https://colab.research.google.com/github/Shailendra114/E-mail-Campaign-Effectiveness-Prediction/blob/main/E_mail_Campaign_Effectiveness_Prediction_(Classification)_Project_.ipynb\" target=\"_parent\"><img src=\"https://colab.research.google.com/assets/colab-badge.svg\" alt=\"Open In Colab\"/></a>"
      ]
    },
    {
      "cell_type": "markdown",
      "source": [
        "# Problem Statement "
      ],
      "metadata": {
        "id": "xOd8g2pXIEcN"
      }
    },
    {
      "cell_type": "markdown",
      "source": [
        "**Most of the small to medium business owners are making effective use of Gmail-based Email marketing Strategies for offline targeting of converting their prospective customers into leads so that they stay with them in Business. The main objective is to create a machine learning model to characterize the mail and track the mail that is ignored; read; acknowledged by the reader.**"
      ],
      "metadata": {
        "id": "-7A2FZU2Ilae"
      }
    },
    {
      "cell_type": "markdown",
      "source": [
        "# Introduction"
      ],
      "metadata": {
        "id": "oK1SxLJ6I6Q1"
      }
    },
    {
      "cell_type": "markdown",
      "source": [
        "Sending email is one of the alternatives used by Companies to tell and promote certain event sale to users. With the ability to be able to predict whether user is reading or not reading the email, enable Companies to evaluate their crew works during campaign period until event launch. This is because, when user is open the email, the possibility of that user know there is an event or promo will be highly increased and also increasing the possibility of that user do transaction during event period. Therefore, with the making of this model, hopefully Companies be able to build a strategy for future marketing."
      ],
      "metadata": {
        "id": "Fe3tgWu_LliN"
      }
    },
    {
      "cell_type": "code",
      "execution_count": null,
      "metadata": {
        "id": "ZURXSZqTHwgh"
      },
      "outputs": [],
      "source": [
        ""
      ]
    }
  ]
}